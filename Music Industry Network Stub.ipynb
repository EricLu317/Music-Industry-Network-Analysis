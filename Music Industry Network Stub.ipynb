{
 "cells": [
  {
   "cell_type": "code",
   "execution_count": 8,
   "metadata": {},
   "outputs": [
    {
     "name": "stdout",
     "output_type": "stream",
     "text": [
      "Name: \n",
      "Type: Graph\n",
      "Number of nodes: 4009\n",
      "Number of edges: 8098\n",
      "Average degree:   4.0399\n"
     ]
    }
   ],
   "source": [
    "import pickle\n",
    "import pandas as pd\n",
    "import numpy as np\n",
    "import networkx as nx\n",
    "import matplotlib.pyplot as plt\n",
    "\n",
    "\n",
    "pG = pickle.load(open(\"Music_network_w_genre.p\", \"rb\"))\n",
    "G = nx.read_gpickle(\"Music_network_w_genre.p\")\n",
    "print(nx.info(G))"
   ]
  },
  {
   "cell_type": "code",
   "execution_count": 167,
   "metadata": {},
   "outputs": [
    {
     "name": "stdout",
     "output_type": "stream",
     "text": [
      "3747\n",
      "7787\n",
      "3747\n"
     ]
    }
   ],
   "source": [
    "graphs = list(nx.connected_component_subgraphs(G))\n",
    "lcc = max(graphs, key=len)\n",
    "num_nodes = lcc.__len__()\n",
    "num_edges = lcc.size()"
   ]
  },
  {
   "cell_type": "markdown",
   "metadata": {},
   "source": [
    "# LCC Degree Distribution"
   ]
  },
  {
   "cell_type": "code",
   "execution_count": 147,
   "metadata": {},
   "outputs": [
    {
     "data": {
      "image/png": "[encoded data removed]",
      "text/plain": [
       "<Figure size 432x288 with 1 Axes>"
      ]
     },
     "metadata": {},
     "output_type": "display_data"
    }
   ],
   "source": [
    "degree = nx.degree(lcc)\n",
    "counts = {}\n",
    "for n, d in degree:\n",
    "    if d in counts:\n",
    "        counts[d] = counts[d] + 1\n",
    "    else:\n",
    "        counts[d] = 1\n",
    "plt.xscale('log')\n",
    "plt.yscale('log')\n",
    "plt.xlabel('Degree (log)')\n",
    "plt.ylabel(\"Count (log)\")\n",
    "# plt.suptitle('Degree Distribution')\n",
    "plt.scatter(list(counts.keys()), list(counts.values()))\n",
    "plt.show()"
   ]
  },
  {
   "cell_type": "markdown",
   "metadata": {},
   "source": [
    "# LCC Network Structure"
   ]
  },
  {
   "cell_type": "code",
   "execution_count": null,
   "metadata": {},
   "outputs": [
    {
     "name": "stdout",
     "output_type": "stream",
     "text": [
      "Nodes: 3747\n",
      "Average Clustering: 0.196043450118536\n",
      "Diameter: 22\n",
      "Degree Assortativity: -0.14485181357066712\n"
     ]
    }
   ],
   "source": [
    "print('Nodes: ' + str(len(lcc.nodes)))\n",
    "print('Average Clustering: ' + str(nx.average_clustering(lcc)))\n",
    "print('Diameter: ' + str(nx.diameter(lcc)))\n",
    "print('Degree Assortativity: ' + str(nx.degree_assortativity_coefficient(lcc)))\n",
    "print('Average Shortest Path: ' + str(nx.average_shortest_path_length(lcc)))"
   ]
  },
  {
   "cell_type": "markdown",
   "metadata": {},
   "source": [
    "# Genre Network Structure"
   ]
  },
  {
   "cell_type": "code",
   "execution_count": 185,
   "metadata": {},
   "outputs": [],
   "source": [
    "genre_dict = {}\n",
    "genre_attribute_dict = {}\n",
    "for n,d in lcc.nodes:\n",
    "    genre_attribute_dict[(n,d)] = {'genre':d, d:d}\n",
    "    if d in genre_dict.keys():\n",
    "        distribution = genre_dict[d]\n",
    "        distribution.append(lcc.degree((n,d)))\n",
    "        genre_dict[d] = distribution\n",
    "    else:\n",
    "        distribution = list()\n",
    "        distribution.append(lcc.degree((n,d)))\n",
    "        genre_dict[d] = distribution\n",
    "        \n",
    "interesting_genres = ['Hip-Hop', 'pop', 'electronic', 'indie', 'rock', 'classic rock']\n",
    "\n",
    "nx.set_node_attributes(lcc, genre_attribute_dict)\n",
    "\n",
    "def degree_distribution(distribution, genre):\n",
    "    counts = {}\n",
    "    for d in distribution:\n",
    "        if d in counts:\n",
    "            counts[d] = counts[d] + 1\n",
    "        else:\n",
    "            counts[d] = 1\n",
    "    plt.xscale('log')\n",
    "    plt.yscale('log')\n",
    "    plt.xlabel('Degree (log)')\n",
    "    plt.ylabel(\"Count (log)\")\n",
    "    plt.suptitle(genre.capitalize())\n",
    "    plt.scatter(list(counts.keys()), list(counts.values()))\n",
    "    plt.show()"
   ]
  },
  {
   "cell_type": "code",
   "execution_count": 166,
   "metadata": {},
   "outputs": [
    {
     "name": "stdout",
     "output_type": "stream",
     "text": [
      "pop\n",
      "Nodes: 221\n",
      "Average Clustering: 0.210476286330055\n",
      "Diameter: 10\n",
      "Degree Assortativity: 0.18256494112038824\n",
      "Average Shortest Path: 4.500904977375566\n"
     ]
    },
    {
     "data": {
      "text/plain": [
       "[['Bebe Rexha', 24],\n",
       " ['Ariana Grande', 22],\n",
       " ['Selena Gomez', 21],\n",
       " ['Hailee Steinfeld', 18],\n",
       " ['Christina Aguilera', 17]]"
      ]
     },
     "metadata": {},
     "output_type": "display_data"
    },
    {
     "name": "stdout",
     "output_type": "stream",
     "text": [
      "\n",
      "Hip-Hop\n",
      "Nodes: 253\n",
      "Average Clustering: 0.2566514637780194\n",
      "Diameter: 10\n",
      "Degree Assortativity: 0.10232629996752021\n",
      "Average Shortest Path: 4.7604303908651735\n"
     ]
    },
    {
     "data": {
      "text/plain": [
       "[['Travi$ Scott', 19],\n",
       " ['A$AP Rocky', 19],\n",
       " ['Joey Bada', 17],\n",
       " ['2 Chainz', 16],\n",
       " ['Future', 16]]"
      ]
     },
     "metadata": {},
     "output_type": "display_data"
    },
    {
     "name": "stdout",
     "output_type": "stream",
     "text": [
      "\n",
      "electronic\n",
      "Nodes: 156\n",
      "Average Clustering: 0.21922834999758076\n",
      "Diameter: 14\n",
      "Degree Assortativity: -0.35063604240282675\n",
      "Average Shortest Path: 6.319437551695616\n"
     ]
    },
    {
     "data": {
      "text/plain": [
       "[['Cut Copy', 14],\n",
       " ['The Chemical Brothers', 12],\n",
       " ['The Knife', 11],\n",
       " ['Louis The Child', 10],\n",
       " ['Röyksopp', 10]]"
      ]
     },
     "metadata": {},
     "output_type": "display_data"
    },
    {
     "name": "stdout",
     "output_type": "stream",
     "text": [
      "\n",
      "classic rock\n",
      "Nodes: 110\n",
      "Average Clustering: 0.27946336491791035\n",
      "Diameter: 8\n",
      "Degree Assortativity: -0.14212141812413748\n",
      "Average Shortest Path: 3.953628023352794\n"
     ]
    },
    {
     "data": {
      "text/plain": [
       "[['Cream', 13],\n",
       " ['Chicago', 12],\n",
       " ['Eagles', 12],\n",
       " ['Boston', 12],\n",
       " ['Steve Miller Band', 11]]"
      ]
     },
     "metadata": {},
     "output_type": "display_data"
    },
    {
     "name": "stdout",
     "output_type": "stream",
     "text": [
      "\n",
      "rock\n",
      "Nodes: 111\n",
      "Average Clustering: 0.21246961246961246\n",
      "Diameter: 16\n",
      "Degree Assortativity: -0.16683745113666565\n",
      "Average Shortest Path: 6.430794430794431\n"
     ]
    },
    {
     "data": {
      "text/plain": [
       "[['Goo Goo Dolls', 10],\n",
       " ['Train', 9],\n",
       " ['Smash Mouth', 9],\n",
       " ['U2', 8],\n",
       " ['Third Eye Blind', 8]]"
      ]
     },
     "metadata": {},
     "output_type": "display_data"
    },
    {
     "name": "stdout",
     "output_type": "stream",
     "text": [
      "\n",
      "indie\n",
      "Nodes: 182\n",
      "Average Clustering: 0.16129386486529335\n",
      "Diameter: 11\n",
      "Degree Assortativity: -0.02180766044823983\n",
      "Average Shortest Path: 5.27861089187056\n"
     ]
    },
    {
     "data": {
      "text/plain": [
       "[['The Shins', 13],\n",
       " ['Spoon', 11],\n",
       " ['Broken Bells', 11],\n",
       " ['Kaiser Chiefs', 10],\n",
       " ['Two Door Cinema Club', 10]]"
      ]
     },
     "metadata": {},
     "output_type": "display_data"
    },
    {
     "name": "stdout",
     "output_type": "stream",
     "text": [
      "\n",
      "rnb\n",
      "Nodes: 67\n",
      "Average Clustering: 0.341942882987659\n",
      "Diameter: 9\n",
      "Degree Assortativity: -0.3801849004309281\n",
      "Average Shortest Path: 3.783355947535052\n"
     ]
    },
    {
     "data": {
      "text/plain": [
       "[['Usher', 12], ['Miguel', 10], ['Ne-Yo', 10], ['TLC', 9], ['Jeremih', 9]]"
      ]
     },
     "metadata": {},
     "output_type": "display_data"
    },
    {
     "name": "stdout",
     "output_type": "stream",
     "text": [
      "\n",
      "folk\n",
      "Nodes: 86\n",
      "Average Clustering: 0.14674485720997343\n",
      "Diameter: 11\n",
      "Degree Assortativity: -0.04487018688072217\n",
      "Average Shortest Path: 4.659644322845417\n"
     ]
    },
    {
     "data": {
      "text/plain": [
       "[['Gregory Alan Isakov', 15],\n",
       " ['The Head and the Heart', 11],\n",
       " ['Iron & Wine', 10],\n",
       " ['The Paper Kites', 10],\n",
       " ['Ben Howard', 10]]"
      ]
     },
     "metadata": {},
     "output_type": "display_data"
    },
    {
     "name": "stdout",
     "output_type": "stream",
     "text": [
      "\n",
      "soul\n",
      "Nodes: 89\n",
      "Average Clustering: 0.23292518966676265\n",
      "Diameter: 12\n",
      "Degree Assortativity: -0.23234682208352242\n",
      "Average Shortest Path: 5.366445352400409\n"
     ]
    },
    {
     "data": {
      "text/plain": [
       "[['Marvin Gaye', 14],\n",
       " ['The Temptations', 13],\n",
       " ['The Supremes', 10],\n",
       " ['Otis Redding', 10],\n",
       " ['Al Green', 10]]"
      ]
     },
     "metadata": {},
     "output_type": "display_data"
    },
    {
     "name": "stdout",
     "output_type": "stream",
     "text": [
      "\n",
      "seen live\n",
      "Nodes: 8\n",
      "Average Clustering: 0.19166666666666665\n",
      "Diameter: 4\n",
      "Degree Assortativity: -0.3207547169811331\n",
      "Average Shortest Path: 1.8928571428571428\n"
     ]
    },
    {
     "data": {
      "text/plain": [
       "[['Big Thief', 5],\n",
       " ['Mitski', 3],\n",
       " ['Lucy Dacus', 3],\n",
       " ['Courtney Barnett', 3],\n",
       " ['Kevin Morby', 2]]"
      ]
     },
     "metadata": {},
     "output_type": "display_data"
    },
    {
     "name": "stdout",
     "output_type": "stream",
     "text": [
      "\n"
     ]
    }
   ],
   "source": [
    "for genre in interesting_genres:\n",
    "    print(genre)\n",
    "    genre_nodes = list()\n",
    "    for n in lcc.nodes:\n",
    "        if lcc.nodes[n]['genre'] == genre:\n",
    "            genre_nodes.append(n)\n",
    "    genre_graph = lcc.subgraph(genre_nodes)\n",
    "    genre_graph_components = nx.connected_component_subgraphs(genre_graph)\n",
    "    genre_lcc = max(genre_graph_components, key=len)\n",
    "    \n",
    "    top_degree = list()\n",
    "    for n in genre_lcc.nodes:\n",
    "        top_degree.append([n[0], genre_lcc.degree[n]])\n",
    "\n",
    "    top_degree.sort(key=lambda x: x[1], reverse=True)\n",
    "\n",
    "    print('Nodes: ' + str(len(genre_lcc.nodes)))\n",
    "    print('Average Clustering: ' + str(nx.average_clustering(genre_lcc)))\n",
    "    print('Diameter: ' + str(nx.diameter(genre_lcc)))\n",
    "    print('Degree Assortativity: ' + str(nx.degree_assortativity_coefficient(genre_lcc)))\n",
    "    print('Average Shortest Path: ' + str(nx.average_shortest_path_length(genre_lcc)))\n",
    "    display(top_degree[:5])\n",
    "    print()"
   ]
  },
  {
   "cell_type": "markdown",
   "metadata": {},
   "source": [
    "# Average Network Structure for Genres with >50 Nodes"
   ]
  },
  {
   "cell_type": "code",
   "execution_count": 183,
   "metadata": {},
   "outputs": [
    {
     "name": "stdout",
     "output_type": "stream",
     "text": [
      "nodes: 135.1\n",
      "diameter: 11.0\n",
      "avg cluster: 0.2321864443417753\n",
      "degree_assort: -0.1488022569038685\n",
      "shortest_path: 4.916132206417362\n",
      "\n"
     ]
    }
   ],
   "source": [
    "num_nodes = list()\n",
    "diameter = list()\n",
    "avg_clustering = list()\n",
    "degree_assort = list()\n",
    "shortest_path = list()\n",
    "for genre in genre_dict.keys():\n",
    "    genre_nodes = list()\n",
    "    for n in lcc.nodes:\n",
    "        if lcc.nodes[n]['genre'] == genre:\n",
    "            genre_nodes.append(n)\n",
    "    genre_graph = lcc.subgraph(genre_nodes)\n",
    "    genre_graph_components = nx.connected_component_subgraphs(genre_graph)\n",
    "    genre_lcc = max(genre_graph_components, key=len)\n",
    "    if len(genre_lcc.nodes) > 50:\n",
    "        num_nodes.append(len(genre_lcc.nodes))\n",
    "        diameter.append(nx.diameter(genre_lcc))\n",
    "        avg_clustering.append(nx.average_clustering(genre_lcc))\n",
    "        degree_assort.append(nx.degree_assortativity_coefficient(genre_lcc))\n",
    "        shortest_path.append(nx.average_shortest_path_length(genre_lcc))\n",
    "\n",
    "print(\"nodes: \" + str(sum(num_nodes)/len(num_nodes)))\n",
    "print('diameter: ' + str(sum(diameter)/len(diameter)))\n",
    "print('avg cluster: ' + str(sum(avg_clustering)/len(avg_clustering)))\n",
    "print('degree_assort: ' + str(sum(degree_assort)/len(degree_assort)))\n",
    "print('shortest_path: ' + str(sum(shortest_path)/len(shortest_path)))"
   ]
  }
 ],
 "metadata": {
  "kernelspec": {
   "display_name": "Python 3",
   "language": "python",
   "name": "python3"
  },
  "language_info": {
   "codemirror_mode": {
    "name": "ipython",
    "version": 3
   },
   "file_extension": ".py",
   "mimetype": "text/x-python",
   "name": "python",
   "nbconvert_exporter": "python",
   "pygments_lexer": "ipython3",
   "version": "3.7.0"
  }
 },
 "nbformat": 4,
 "nbformat_minor": 2
}
